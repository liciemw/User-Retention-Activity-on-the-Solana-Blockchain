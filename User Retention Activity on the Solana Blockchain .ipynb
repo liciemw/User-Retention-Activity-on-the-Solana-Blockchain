{
 "cells": [
  {
   "cell_type": "markdown",
   "id": "4f637093",
   "metadata": {},
   "source": [
    "# Importations and Required Libraries"
   ]
  },
  {
   "cell_type": "code",
   "execution_count": 20,
   "id": "58c905fd",
   "metadata": {
    "scrolled": false
   },
   "outputs": [
    {
     "name": "stdout",
     "output_type": "stream",
     "text": [
      "Requirement already satisfied: ipython-sql in c:\\users\\user\\anaconda3\\envs\\learn-env\\lib\\site-packages (0.5.0)\n",
      "Requirement already satisfied: sqlalchemy in c:\\users\\user\\anaconda3\\envs\\learn-env\\lib\\site-packages (2.0.23)\n",
      "Requirement already satisfied: prettytable in c:\\users\\user\\anaconda3\\envs\\learn-env\\lib\\site-packages (from ipython-sql) (3.9.0)\n",
      "Requirement already satisfied: ipython in c:\\users\\user\\anaconda3\\envs\\learn-env\\lib\\site-packages (from ipython-sql) (8.17.2)\n",
      "Requirement already satisfied: sqlparse in c:\\users\\user\\anaconda3\\envs\\learn-env\\lib\\site-packages (from ipython-sql) (0.4.4)\n",
      "Requirement already satisfied: six in c:\\users\\user\\anaconda3\\envs\\learn-env\\lib\\site-packages (from ipython-sql) (1.16.0)\n",
      "Requirement already satisfied: ipython-genutils in c:\\users\\user\\anaconda3\\envs\\learn-env\\lib\\site-packages (from ipython-sql) (0.2.0)\n",
      "Requirement already satisfied: typing-extensions>=4.2.0 in c:\\users\\user\\anaconda3\\envs\\learn-env\\lib\\site-packages (from sqlalchemy) (4.8.0)\n",
      "Requirement already satisfied: greenlet!=0.4.17 in c:\\users\\user\\anaconda3\\envs\\learn-env\\lib\\site-packages (from sqlalchemy) (3.0.1)\n",
      "Requirement already satisfied: decorator in c:\\users\\user\\anaconda3\\envs\\learn-env\\lib\\site-packages (from ipython->ipython-sql) (5.1.1)\n",
      "Requirement already satisfied: jedi>=0.16 in c:\\users\\user\\anaconda3\\envs\\learn-env\\lib\\site-packages (from ipython->ipython-sql) (0.19.1)\n",
      "Requirement already satisfied: matplotlib-inline in c:\\users\\user\\anaconda3\\envs\\learn-env\\lib\\site-packages (from ipython->ipython-sql) (0.1.6)\n",
      "Requirement already satisfied: prompt-toolkit!=3.0.37,<3.1.0,>=3.0.30 in c:\\users\\user\\anaconda3\\envs\\learn-env\\lib\\site-packages (from ipython->ipython-sql) (3.0.39)\n",
      "Requirement already satisfied: pygments>=2.4.0 in c:\\users\\user\\anaconda3\\envs\\learn-env\\lib\\site-packages (from ipython->ipython-sql) (2.16.1)\n",
      "Requirement already satisfied: stack-data in c:\\users\\user\\anaconda3\\envs\\learn-env\\lib\\site-packages (from ipython->ipython-sql) (0.6.2)\n",
      "Requirement already satisfied: traitlets>=5 in c:\\users\\user\\anaconda3\\envs\\learn-env\\lib\\site-packages (from ipython->ipython-sql) (5.13.0)\n",
      "Requirement already satisfied: exceptiongroup in c:\\users\\user\\anaconda3\\envs\\learn-env\\lib\\site-packages (from ipython->ipython-sql) (1.1.3)\n",
      "Requirement already satisfied: colorama in c:\\users\\user\\anaconda3\\envs\\learn-env\\lib\\site-packages (from ipython->ipython-sql) (0.4.6)\n",
      "Requirement already satisfied: wcwidth in c:\\users\\user\\anaconda3\\envs\\learn-env\\lib\\site-packages (from prettytable->ipython-sql) (0.2.9)\n",
      "Requirement already satisfied: parso<0.9.0,>=0.8.3 in c:\\users\\user\\anaconda3\\envs\\learn-env\\lib\\site-packages (from jedi>=0.16->ipython->ipython-sql) (0.8.3)\n",
      "Requirement already satisfied: executing>=1.2.0 in c:\\users\\user\\anaconda3\\envs\\learn-env\\lib\\site-packages (from stack-data->ipython->ipython-sql) (2.0.1)\n",
      "Requirement already satisfied: asttokens>=2.1.0 in c:\\users\\user\\anaconda3\\envs\\learn-env\\lib\\site-packages (from stack-data->ipython->ipython-sql) (2.4.1)\n",
      "Requirement already satisfied: pure-eval in c:\\users\\user\\anaconda3\\envs\\learn-env\\lib\\site-packages (from stack-data->ipython->ipython-sql) (0.2.2)\n",
      "Note: you may need to restart the kernel to use updated packages.\n"
     ]
    },
    {
     "name": "stderr",
     "output_type": "stream",
     "text": [
      "\n",
      "[notice] A new release of pip is available: 24.0 -> 25.0.1\n",
      "[notice] To update, run: python.exe -m pip install --upgrade pip\n"
     ]
    }
   ],
   "source": [
    "pip install ipython-sql sqlalchemy"
   ]
  },
  {
   "cell_type": "markdown",
   "id": "51b853fb",
   "metadata": {},
   "source": [
    "**load SQL magic and set up an SQLite database**"
   ]
  },
  {
   "cell_type": "code",
   "execution_count": 12,
   "id": "9ce2b713",
   "metadata": {},
   "outputs": [
    {
     "name": "stdout",
     "output_type": "stream",
     "text": [
      "The sql extension is already loaded. To reload it, use:\n",
      "  %reload_ext sql\n"
     ]
    }
   ],
   "source": [
    "%load_ext sql\n",
    "import sqlite3\n",
    "import pandas as pd\n",
    "from sqlalchemy import create_engine\n"
   ]
  },
  {
   "cell_type": "markdown",
   "id": "aa75d856",
   "metadata": {},
   "source": [
    "# Step 1: Load Data into Pandas"
   ]
  },
  {
   "cell_type": "code",
   "execution_count": 13,
   "id": "80ddb7b3",
   "metadata": {},
   "outputs": [],
   "source": [
    "# Load dataset files into DataFrames\n",
    "df_active = pd.read_csv(\"Flipside Dataset/flipside_days_active.csv\")\n",
    "df_labels = pd.read_csv(\"Flipside Dataset/flipside_dim_labels.csv\", delimiter=\",\", on_bad_lines=\"skip\")\n",
    "df_new_programs = pd.read_csv(\"Flipside_Dataset_2/Solana_Weekly_New_Programs.csv\")\n",
    "df_new_users = pd.read_csv(\"Flipside_Dataset_2/Solana Weekly New Users.csv\")\n",
    "df_unique_programs = pd.read_csv(\"Flipside_Dataset_2/Solana_Weekly_Unique_Programs.csv\")\n",
    "df_unique_users = pd.read_csv(\"Flipside_Dataset_2/Solana_Weekly_Unique_Users.csv\")\n",
    "df_days_since_last_use = pd.read_csv(\"Flipside Dataset/weekly_days_since_last_use.csv\")\n",
    "df_users_last_use = pd.read_csv(\"Flipside_Dataset_2/Solana_last_use_data.csv\")"
   ]
  },
  {
   "cell_type": "markdown",
   "id": "a4ab1fef",
   "metadata": {},
   "source": [
    "**create a database connection**"
   ]
  },
  {
   "cell_type": "code",
   "execution_count": 14,
   "id": "b55e74c4",
   "metadata": {},
   "outputs": [],
   "source": [
    "engine = create_engine('sqlite:///flipside_data.db')  \n",
    "conn = engine.connect()"
   ]
  },
  {
   "cell_type": "markdown",
   "id": "dcd0b3f6",
   "metadata": {},
   "source": [
    "**Store DataFrames as SQL Tables**"
   ]
  },
  {
   "cell_type": "code",
   "execution_count": 16,
   "id": "61a9d25b",
   "metadata": {},
   "outputs": [
    {
     "data": {
      "text/plain": [
       "100001"
      ]
     },
     "execution_count": 16,
     "metadata": {},
     "output_type": "execute_result"
    }
   ],
   "source": [
    "df_active.to_sql('flipside_days_active', conn, if_exists='replace', index=False)\n",
    "df_labels.to_sql('flipside_dim_labels', conn, if_exists='replace', index=False)\n",
    "df_new_programs.to_sql('solana_weekly_new_programs', conn, if_exists='replace', index=False)\n",
    "df_new_users.to_sql('solana_weekly_new_users', conn, if_exists='replace', index=False)\n",
    "df_unique_programs.to_sql('solana_weekly_unique_programs', conn, if_exists='replace', index=False)\n",
    "df_unique_users.to_sql('solana_weekly_unique_users', conn, if_exists='replace', index=False)\n",
    "df_days_since_last_use.to_sql('weekly_days_since_last_use', conn, if_exists='replace', index=False)\n",
    "df_users_last_use.to_sql('solana_last_use_data', conn, if_exists='replace', index=False)\n"
   ]
  },
  {
   "cell_type": "markdown",
   "id": "55795428",
   "metadata": {},
   "source": [
    "**Query using %%sql to inspect the tables**"
   ]
  },
  {
   "cell_type": "code",
   "execution_count": 23,
   "id": "062d7925",
   "metadata": {},
   "outputs": [
    {
     "name": "stdout",
     "output_type": "stream",
     "text": [
      "Done.\n"
     ]
    },
    {
     "data": {
      "text/html": [
       "<table>\n",
       "    <thead>\n",
       "        <tr>\n",
       "            <th>WEEK</th>\n",
       "            <th>NEW_USERS</th>\n",
       "        </tr>\n",
       "    </thead>\n",
       "    <tbody>\n",
       "        <tr>\n",
       "            <td>2025-03-03 00:00:00.000</td>\n",
       "            <td>3.0</td>\n",
       "        </tr>\n",
       "        <tr>\n",
       "            <td>2025-02-03 00:00:00.000</td>\n",
       "            <td>1.0</td>\n",
       "        </tr>\n",
       "        <tr>\n",
       "            <td>2025-01-20 00:00:00.000</td>\n",
       "            <td>1.0</td>\n",
       "        </tr>\n",
       "        <tr>\n",
       "            <td>2025-01-13 00:00:00.000</td>\n",
       "            <td>2.0</td>\n",
       "        </tr>\n",
       "        <tr>\n",
       "            <td>2025-01-06 00:00:00.000</td>\n",
       "            <td>2.0</td>\n",
       "        </tr>\n",
       "    </tbody>\n",
       "</table>"
      ],
      "text/plain": [
       "[('2025-03-03 00:00:00.000', 3.0),\n",
       " ('2025-02-03 00:00:00.000', 1.0),\n",
       " ('2025-01-20 00:00:00.000', 1.0),\n",
       " ('2025-01-13 00:00:00.000', 2.0),\n",
       " ('2025-01-06 00:00:00.000', 2.0)]"
      ]
     },
     "execution_count": 23,
     "metadata": {},
     "output_type": "execute_result"
    }
   ],
   "source": [
    "%%sql \n",
    "sqlite:///flipside_data.db\n",
    "SELECT * \n",
    "FROM solana_weekly_new_users \n",
    "LIMIT 5;"
   ]
  },
  {
   "cell_type": "code",
   "execution_count": 25,
   "id": "dcf473c3",
   "metadata": {},
   "outputs": [
    {
     "name": "stdout",
     "output_type": "stream",
     "text": [
      "Done.\n"
     ]
    },
    {
     "data": {
      "text/html": [
       "<table>\n",
       "    <thead>\n",
       "        <tr>\n",
       "            <th>CREATION_DATE</th>\n",
       "            <th>Days since last use</th>\n",
       "            <th>Days since creation</th>\n",
       "        </tr>\n",
       "    </thead>\n",
       "    <tbody>\n",
       "        <tr>\n",
       "            <td>2020-10-07</td>\n",
       "            <td>633.6165674428066</td>\n",
       "            <td>750.5566283125927</td>\n",
       "        </tr>\n",
       "        <tr>\n",
       "            <td>2020-10-14</td>\n",
       "            <td>611.4229036788537</td>\n",
       "            <td>743.5566283125927</td>\n",
       "        </tr>\n",
       "        <tr>\n",
       "            <td>2020-10-21</td>\n",
       "            <td>528.2639841669929</td>\n",
       "            <td>736.5566283125927</td>\n",
       "        </tr>\n",
       "        <tr>\n",
       "            <td>2020-10-28</td>\n",
       "            <td>492.9001518006344</td>\n",
       "            <td>729.5566283125927</td>\n",
       "        </tr>\n",
       "        <tr>\n",
       "            <td>2020-11-04</td>\n",
       "            <td>696.7685171327714</td>\n",
       "            <td>722.5566283125927</td>\n",
       "        </tr>\n",
       "    </tbody>\n",
       "</table>"
      ],
      "text/plain": [
       "[('2020-10-07', 633.6165674428066, 750.5566283125927),\n",
       " ('2020-10-14', 611.4229036788537, 743.5566283125927),\n",
       " ('2020-10-21', 528.2639841669929, 736.5566283125927),\n",
       " ('2020-10-28', 492.9001518006344, 729.5566283125927),\n",
       " ('2020-11-04', 696.7685171327714, 722.5566283125927)]"
      ]
     },
     "execution_count": 25,
     "metadata": {},
     "output_type": "execute_result"
    }
   ],
   "source": [
    "%%sql \n",
    "sqlite:///flipside_data.db\n",
    "SELECT * \n",
    "FROM weekly_days_since_last_use \n",
    "LIMIT 5;"
   ]
  },
  {
   "cell_type": "markdown",
   "id": "e7dd929a",
   "metadata": {},
   "source": [
    "# Step 2: Merge Tables \n"
   ]
  },
  {
   "cell_type": "markdown",
   "id": "75c733f7",
   "metadata": {},
   "source": [
    "**I. Merge flipside_days_active, weekly_days_since_last_use, and solana_last_use_data on the ADDRESS column.**"
   ]
  },
  {
   "cell_type": "code",
   "execution_count": null,
   "id": "7cf2c7d4",
   "metadata": {},
   "outputs": [
    {
     "name": "stdout",
     "output_type": "stream",
     "text": [
      " * sqlite:///flipside_data.db\n",
      "Done.\n"
     ]
    }
   ],
   "source": [
    "%%sql\n",
    "SELECT \n",
    "    fda.ADDRESS, \n",
    "    fda.FIRST_TX_DATE, \n",
    "    fda.FIRST_PROGRAM_ID, \n",
    "    fda.LAST_TX_DATE, \n",
    "    fda.LAST_PROGRAM_ID, \n",
    "    fda.NUM_DAYS_ACTIVE, \n",
    "    fda.NUM_TXS, \n",
    "    fda.TOTAL_FEES, \n",
    "    fda.PROGRAMS_USED,\n",
    "    wds.CREATION_DATE, \n",
    "    wds.\"Days since last use\", \n",
    "    wds.\"Days since creation\", \n",
    "    sld.LAST_USE\n",
    "FROM flipside_days_active fda\n",
    "LEFT JOIN weekly_days_since_last_use wds ON fda.ADDRESS = wds.CREATION_DATE\n",
    "LEFT JOIN solana_last_use_data sld ON fda.ADDRESS = sld.ADDRESS;\n",
    "\n"
   ]
  },
  {
   "cell_type": "code",
   "execution_count": null,
   "id": "9e4deda5",
   "metadata": {},
   "outputs": [],
   "source": []
  }
 ],
 "metadata": {
  "kernelspec": {
   "display_name": "Python (learn-env)",
   "language": "python",
   "name": "learn-env"
  },
  "language_info": {
   "codemirror_mode": {
    "name": "ipython",
    "version": 3
   },
   "file_extension": ".py",
   "mimetype": "text/x-python",
   "name": "python",
   "nbconvert_exporter": "python",
   "pygments_lexer": "ipython3",
   "version": "3.10.13"
  }
 },
 "nbformat": 4,
 "nbformat_minor": 5
}
