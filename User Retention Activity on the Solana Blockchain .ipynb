{
 "cells": [
  {
   "cell_type": "markdown",
   "id": "4f637093",
   "metadata": {},
   "source": [
    "# Importations and Required Libraries"
   ]
  },
  {
   "cell_type": "code",
   "execution_count": 1,
   "id": "a9f4e1e0",
   "metadata": {},
   "outputs": [
    {
     "name": "stdout",
     "output_type": "stream",
     "text": [
      "Requirement already satisfied: ipython-sql in c:\\users\\user\\anaconda3\\envs\\learn-env\\lib\\site-packages (0.5.0)\n",
      "Requirement already satisfied: sqlalchemy in c:\\users\\user\\anaconda3\\envs\\learn-env\\lib\\site-packages (2.0.23)\n",
      "Requirement already satisfied: prettytable in c:\\users\\user\\anaconda3\\envs\\learn-env\\lib\\site-packages (from ipython-sql) (3.9.0)\n",
      "Requirement already satisfied: ipython in c:\\users\\user\\anaconda3\\envs\\learn-env\\lib\\site-packages (from ipython-sql) (8.17.2)\n",
      "Requirement already satisfied: sqlparse in c:\\users\\user\\anaconda3\\envs\\learn-env\\lib\\site-packages (from ipython-sql) (0.4.4)\n",
      "Requirement already satisfied: six in c:\\users\\user\\anaconda3\\envs\\learn-env\\lib\\site-packages (from ipython-sql) (1.16.0)\n",
      "Requirement already satisfied: ipython-genutils in c:\\users\\user\\anaconda3\\envs\\learn-env\\lib\\site-packages (from ipython-sql) (0.2.0)\n",
      "Requirement already satisfied: typing-extensions>=4.2.0 in c:\\users\\user\\anaconda3\\envs\\learn-env\\lib\\site-packages (from sqlalchemy) (4.8.0)\n",
      "Requirement already satisfied: greenlet!=0.4.17 in c:\\users\\user\\anaconda3\\envs\\learn-env\\lib\\site-packages (from sqlalchemy) (3.0.1)\n",
      "Requirement already satisfied: decorator in c:\\users\\user\\anaconda3\\envs\\learn-env\\lib\\site-packages (from ipython->ipython-sql) (5.1.1)\n",
      "Requirement already satisfied: jedi>=0.16 in c:\\users\\user\\anaconda3\\envs\\learn-env\\lib\\site-packages (from ipython->ipython-sql) (0.19.1)\n",
      "Requirement already satisfied: matplotlib-inline in c:\\users\\user\\anaconda3\\envs\\learn-env\\lib\\site-packages (from ipython->ipython-sql) (0.1.6)\n",
      "Requirement already satisfied: prompt-toolkit!=3.0.37,<3.1.0,>=3.0.30 in c:\\users\\user\\anaconda3\\envs\\learn-env\\lib\\site-packages (from ipython->ipython-sql) (3.0.39)\n",
      "Requirement already satisfied: pygments>=2.4.0 in c:\\users\\user\\anaconda3\\envs\\learn-env\\lib\\site-packages (from ipython->ipython-sql) (2.16.1)\n",
      "Requirement already satisfied: stack-data in c:\\users\\user\\anaconda3\\envs\\learn-env\\lib\\site-packages (from ipython->ipython-sql) (0.6.2)\n",
      "Requirement already satisfied: traitlets>=5 in c:\\users\\user\\anaconda3\\envs\\learn-env\\lib\\site-packages (from ipython->ipython-sql) (5.13.0)\n",
      "Requirement already satisfied: exceptiongroup in c:\\users\\user\\anaconda3\\envs\\learn-env\\lib\\site-packages (from ipython->ipython-sql) (1.1.3)\n",
      "Requirement already satisfied: colorama in c:\\users\\user\\anaconda3\\envs\\learn-env\\lib\\site-packages (from ipython->ipython-sql) (0.4.6)\n",
      "Requirement already satisfied: wcwidth in c:\\users\\user\\anaconda3\\envs\\learn-env\\lib\\site-packages (from prettytable->ipython-sql) (0.2.9)\n",
      "Requirement already satisfied: parso<0.9.0,>=0.8.3 in c:\\users\\user\\anaconda3\\envs\\learn-env\\lib\\site-packages (from jedi>=0.16->ipython->ipython-sql) (0.8.3)\n",
      "Requirement already satisfied: executing>=1.2.0 in c:\\users\\user\\anaconda3\\envs\\learn-env\\lib\\site-packages (from stack-data->ipython->ipython-sql) (2.0.1)\n",
      "Requirement already satisfied: asttokens>=2.1.0 in c:\\users\\user\\anaconda3\\envs\\learn-env\\lib\\site-packages (from stack-data->ipython->ipython-sql) (2.4.1)\n",
      "Requirement already satisfied: pure-eval in c:\\users\\user\\anaconda3\\envs\\learn-env\\lib\\site-packages (from stack-data->ipython->ipython-sql) (0.2.2)\n",
      "Note: you may need to restart the kernel to use updated packages.\n"
     ]
    },
    {
     "name": "stderr",
     "output_type": "stream",
     "text": [
      "\n",
      "[notice] A new release of pip is available: 24.0 -> 25.0.1\n",
      "[notice] To update, run: python.exe -m pip install --upgrade pip\n"
     ]
    }
   ],
   "source": [
    "pip install ipython-sql sqlalchemy"
   ]
  },
  {
   "cell_type": "markdown",
   "id": "51b853fb",
   "metadata": {},
   "source": [
    "**load SQL magic and set up an SQLite database**"
   ]
  },
  {
   "cell_type": "code",
   "execution_count": 5,
   "id": "9ce2b713",
   "metadata": {},
   "outputs": [
    {
     "name": "stdout",
     "output_type": "stream",
     "text": [
      "The sql extension is already loaded. To reload it, use:\n",
      "  %reload_ext sql\n"
     ]
    }
   ],
   "source": [
    "%load_ext sql\n",
    "import sqlite3\n",
    "import pandas as pd\n",
    "from sqlalchemy import create_engine\n"
   ]
  },
  {
   "cell_type": "markdown",
   "id": "aa75d856",
   "metadata": {},
   "source": [
    "# 1: EXTRACTION\n",
    "**a: Load Data into Pandas**"
   ]
  },
  {
   "cell_type": "code",
   "execution_count": 6,
   "id": "80ddb7b3",
   "metadata": {},
   "outputs": [],
   "source": [
    "# Load dataset files into DataFrames\n",
    "df_active = pd.read_csv(\"Flipside Dataset/flipside_days_active.csv\")\n",
    "df_labels = pd.read_csv(\"Flipside Dataset/flipside_dim_labels.csv\", delimiter=\",\", on_bad_lines=\"skip\")\n",
    "df_new_programs = pd.read_csv(\"Flipside_Dataset_2/Solana_Weekly_New_Programs.csv\")\n",
    "df_new_users = pd.read_csv(\"Flipside_Dataset_2/Solana Weekly New Users.csv\")\n",
    "df_unique_programs = pd.read_csv(\"Flipside_Dataset_2/Solana_Weekly_Unique_Programs.csv\")\n",
    "df_unique_users = pd.read_csv(\"Flipside_Dataset_2/Solana_Weekly_Unique_Users.csv\")\n",
    "df_days_since_last_use = pd.read_csv(\"Flipside Dataset/weekly_days_since_last_use.csv\")\n",
    "df_users_last_use = pd.read_csv(\"Flipside_Dataset_2/Solana_last_use_data.csv\")"
   ]
  },
  {
   "cell_type": "markdown",
   "id": "a4ab1fef",
   "metadata": {},
   "source": [
    "**b: create a database connection**"
   ]
  },
  {
   "cell_type": "code",
   "execution_count": 7,
   "id": "b55e74c4",
   "metadata": {},
   "outputs": [],
   "source": [
    "engine = create_engine('sqlite:///flipside_data.db')  \n",
    "conn = engine.connect()"
   ]
  },
  {
   "cell_type": "code",
   "execution_count": null,
   "id": "62a15184",
   "metadata": {},
   "outputs": [],
   "source": []
  },
  {
   "cell_type": "markdown",
   "id": "dcd0b3f6",
   "metadata": {},
   "source": [
    "**c: Store DataFrames as SQL Tables**"
   ]
  },
  {
   "cell_type": "code",
   "execution_count": 8,
   "id": "61a9d25b",
   "metadata": {},
   "outputs": [
    {
     "data": {
      "text/plain": [
       "100001"
      ]
     },
     "execution_count": 8,
     "metadata": {},
     "output_type": "execute_result"
    }
   ],
   "source": [
    "df_active.to_sql('flipside_days_active', conn, if_exists='replace', index=False)\n",
    "df_labels.to_sql('flipside_dim_labels', conn, if_exists='replace', index=False)\n",
    "df_new_programs.to_sql('solana_weekly_new_programs', conn, if_exists='replace', index=False)\n",
    "df_new_users.to_sql('solana_weekly_new_users', conn, if_exists='replace', index=False)\n",
    "df_unique_programs.to_sql('solana_weekly_unique_programs', conn, if_exists='replace', index=False)\n",
    "df_unique_users.to_sql('solana_weekly_unique_users', conn, if_exists='replace', index=False)\n",
    "df_days_since_last_use.to_sql('weekly_days_since_last_use', conn, if_exists='replace', index=False)\n",
    "df_users_last_use.to_sql('solana_last_use_data', conn, if_exists='replace', index=False)\n"
   ]
  },
  {
   "cell_type": "markdown",
   "id": "55795428",
   "metadata": {},
   "source": [
    "**d: Query using %%sql to inspect the tables**"
   ]
  },
  {
   "cell_type": "code",
   "execution_count": 9,
   "id": "062d7925",
   "metadata": {},
   "outputs": [
    {
     "name": "stdout",
     "output_type": "stream",
     "text": [
      "Done.\n"
     ]
    },
    {
     "data": {
      "text/html": [
       "<table>\n",
       "    <thead>\n",
       "        <tr>\n",
       "            <th>WEEK</th>\n",
       "            <th>NEW_USERS</th>\n",
       "        </tr>\n",
       "    </thead>\n",
       "    <tbody>\n",
       "        <tr>\n",
       "            <td>2025-03-03 00:00:00.000</td>\n",
       "            <td>3.0</td>\n",
       "        </tr>\n",
       "        <tr>\n",
       "            <td>2025-02-03 00:00:00.000</td>\n",
       "            <td>1.0</td>\n",
       "        </tr>\n",
       "        <tr>\n",
       "            <td>2025-01-20 00:00:00.000</td>\n",
       "            <td>1.0</td>\n",
       "        </tr>\n",
       "        <tr>\n",
       "            <td>2025-01-13 00:00:00.000</td>\n",
       "            <td>2.0</td>\n",
       "        </tr>\n",
       "        <tr>\n",
       "            <td>2025-01-06 00:00:00.000</td>\n",
       "            <td>2.0</td>\n",
       "        </tr>\n",
       "    </tbody>\n",
       "</table>"
      ],
      "text/plain": [
       "[('2025-03-03 00:00:00.000', 3.0),\n",
       " ('2025-02-03 00:00:00.000', 1.0),\n",
       " ('2025-01-20 00:00:00.000', 1.0),\n",
       " ('2025-01-13 00:00:00.000', 2.0),\n",
       " ('2025-01-06 00:00:00.000', 2.0)]"
      ]
     },
     "execution_count": 9,
     "metadata": {},
     "output_type": "execute_result"
    }
   ],
   "source": [
    "%%sql \n",
    "sqlite:///flipside_data.db\n",
    "SELECT * \n",
    "FROM solana_weekly_new_users \n",
    "LIMIT 5;"
   ]
  },
  {
   "cell_type": "code",
   "execution_count": 10,
   "id": "dcf473c3",
   "metadata": {},
   "outputs": [
    {
     "name": "stdout",
     "output_type": "stream",
     "text": [
      "Done.\n"
     ]
    },
    {
     "data": {
      "text/html": [
       "<table>\n",
       "    <thead>\n",
       "        <tr>\n",
       "            <th>CREATION_DATE</th>\n",
       "            <th>Days since last use</th>\n",
       "            <th>Days since creation</th>\n",
       "        </tr>\n",
       "    </thead>\n",
       "    <tbody>\n",
       "        <tr>\n",
       "            <td>2020-10-07</td>\n",
       "            <td>633.6165674428066</td>\n",
       "            <td>750.5566283125927</td>\n",
       "        </tr>\n",
       "        <tr>\n",
       "            <td>2020-10-14</td>\n",
       "            <td>611.4229036788537</td>\n",
       "            <td>743.5566283125927</td>\n",
       "        </tr>\n",
       "        <tr>\n",
       "            <td>2020-10-21</td>\n",
       "            <td>528.2639841669929</td>\n",
       "            <td>736.5566283125927</td>\n",
       "        </tr>\n",
       "        <tr>\n",
       "            <td>2020-10-28</td>\n",
       "            <td>492.9001518006344</td>\n",
       "            <td>729.5566283125927</td>\n",
       "        </tr>\n",
       "        <tr>\n",
       "            <td>2020-11-04</td>\n",
       "            <td>696.7685171327714</td>\n",
       "            <td>722.5566283125927</td>\n",
       "        </tr>\n",
       "    </tbody>\n",
       "</table>"
      ],
      "text/plain": [
       "[('2020-10-07', 633.6165674428066, 750.5566283125927),\n",
       " ('2020-10-14', 611.4229036788537, 743.5566283125927),\n",
       " ('2020-10-21', 528.2639841669929, 736.5566283125927),\n",
       " ('2020-10-28', 492.9001518006344, 729.5566283125927),\n",
       " ('2020-11-04', 696.7685171327714, 722.5566283125927)]"
      ]
     },
     "execution_count": 10,
     "metadata": {},
     "output_type": "execute_result"
    }
   ],
   "source": [
    "%%sql \n",
    "sqlite:///flipside_data.db\n",
    "SELECT * \n",
    "FROM weekly_days_since_last_use \n",
    "LIMIT 5;"
   ]
  },
  {
   "cell_type": "markdown",
   "id": "e7dd929a",
   "metadata": {},
   "source": [
    "# Merge Tables \n"
   ]
  },
  {
   "cell_type": "markdown",
   "id": "75c733f7",
   "metadata": {},
   "source": [
    "**I. Merge flipside_days_active, weekly_days_since_last_use, and solana_last_use_data on the ADDRESS column.**"
   ]
  },
  {
   "cell_type": "code",
   "execution_count": 13,
   "id": "7cf2c7d4",
   "metadata": {},
   "outputs": [
    {
     "name": "stdout",
     "output_type": "stream",
     "text": [
      " * sqlite:///flipside_data.db\n",
      "Done.\n",
      "Done.\n"
     ]
    },
    {
     "data": {
      "text/html": [
       "<table>\n",
       "    <thead>\n",
       "        <tr>\n",
       "            <th>ADDRESS</th>\n",
       "            <th>FIRST_TX_DATE</th>\n",
       "            <th>FIRST_PROGRAM_ID</th>\n",
       "            <th>LAST_TX_DATE</th>\n",
       "            <th>LAST_PROGRAM_ID</th>\n",
       "            <th>NUM_DAYS_ACTIVE</th>\n",
       "            <th>NUM_TXS</th>\n",
       "            <th>TOTAL_FEES</th>\n",
       "            <th>PROGRAMS_USED</th>\n",
       "            <th>CREATION_DATE</th>\n",
       "            <th>Days since last use</th>\n",
       "            <th>Days since creation</th>\n",
       "            <th>LAST_USE</th>\n",
       "        </tr>\n",
       "    </thead>\n",
       "    <tbody>\n",
       "        <tr>\n",
       "            <td>9P65j1MLdkve3iShPXF3H6F32qGhKYmVLyza5J4ZvkyU</td>\n",
       "            <td>2025-03-11 00:00:00.000</td>\n",
       "            <td>11111111111111111111111111111111</td>\n",
       "            <td>2025-03-11 00:00:00.000</td>\n",
       "            <td>HDwcJBJXjL9FpJ7UBsYBtaDjsBUhuLCUYoz3zr8SWWaQ</td>\n",
       "            <td>1.0</td>\n",
       "            <td>1.0</td>\n",
       "            <td>None</td>\n",
       "            <td>[&quot;11111111111111111111111111111111&quot;,&quot;11111111111111111111111111111111&quot;,&quot;HDwcJBJXjL9FpJ7UBsYBtaDjsBUhuLCUYoz3zr8SWWaQ&quot;,&quot;HDwcJBJXjL9FpJ7UBsYBtaDjsBUhuLCUYoz3zr8SWWaQ&quot;]</td>\n",
       "            <td>None</td>\n",
       "            <td>None</td>\n",
       "            <td>None</td>\n",
       "            <td>None</td>\n",
       "        </tr>\n",
       "        <tr>\n",
       "            <td>6VvDGnnAeEeK3yd4jAdH5X7ZdRVTsrbrg4beDZvQemmG</td>\n",
       "            <td>2025-03-11 00:00:00.000</td>\n",
       "            <td>11111111111111111111111111111111</td>\n",
       "            <td>2025-03-11 00:00:00.000</td>\n",
       "            <td>675kPX9MHTjS2zt1qfr1NYHuzeLXfQM9H24wFSUt1Mp8</td>\n",
       "            <td>1.0</td>\n",
       "            <td>1.0</td>\n",
       "            <td>None</td>\n",
       "            <td>[&quot;11111111111111111111111111111111&quot;,&quot;11111111111111111111111111111111&quot;,&quot;675kPX9MHTjS2zt1qfr1NYHuzeLXfQM9H24wFSUt1Mp8&quot;]</td>\n",
       "            <td>None</td>\n",
       "            <td>None</td>\n",
       "            <td>None</td>\n",
       "            <td>None</td>\n",
       "        </tr>\n",
       "        <tr>\n",
       "            <td>gGf97pe7apxKNmQyiBctckiLeuPTBrbh4HridK6bNBz</td>\n",
       "            <td>2025-03-11 00:00:00.000</td>\n",
       "            <td>11111111111111111111111111111111</td>\n",
       "            <td>2025-03-11 00:00:00.000</td>\n",
       "            <td>675kPX9MHTjS2zt1qfr1NYHuzeLXfQM9H24wFSUt1Mp8</td>\n",
       "            <td>1.0</td>\n",
       "            <td>1.0</td>\n",
       "            <td>None</td>\n",
       "            <td>[&quot;11111111111111111111111111111111&quot;,&quot;11111111111111111111111111111111&quot;,&quot;675kPX9MHTjS2zt1qfr1NYHuzeLXfQM9H24wFSUt1Mp8&quot;]</td>\n",
       "            <td>None</td>\n",
       "            <td>None</td>\n",
       "            <td>None</td>\n",
       "            <td>None</td>\n",
       "        </tr>\n",
       "        <tr>\n",
       "            <td>7VEETqsSS9QdhZZg2fZcpivzLYg8zbQrKEzpFoN9zpav</td>\n",
       "            <td>2025-03-11 00:00:00.000</td>\n",
       "            <td>11111111111111111111111111111111</td>\n",
       "            <td>2025-03-11 00:00:00.000</td>\n",
       "            <td>675kPX9MHTjS2zt1qfr1NYHuzeLXfQM9H24wFSUt1Mp8</td>\n",
       "            <td>1.0</td>\n",
       "            <td>1.0</td>\n",
       "            <td>None</td>\n",
       "            <td>[&quot;11111111111111111111111111111111&quot;,&quot;11111111111111111111111111111111&quot;,&quot;675kPX9MHTjS2zt1qfr1NYHuzeLXfQM9H24wFSUt1Mp8&quot;]</td>\n",
       "            <td>None</td>\n",
       "            <td>None</td>\n",
       "            <td>None</td>\n",
       "            <td>None</td>\n",
       "        </tr>\n",
       "        <tr>\n",
       "            <td>ESJkFSHeeHE4rBHKxVAKA4QxjL93KPH7MbWrwkyDQgQx</td>\n",
       "            <td>2025-03-11 00:00:00.000</td>\n",
       "            <td>11111111111111111111111111111111</td>\n",
       "            <td>2025-03-11 00:00:00.000</td>\n",
       "            <td>675kPX9MHTjS2zt1qfr1NYHuzeLXfQM9H24wFSUt1Mp8</td>\n",
       "            <td>1.0</td>\n",
       "            <td>2.0</td>\n",
       "            <td>10000.0</td>\n",
       "            <td>[&quot;11111111111111111111111111111111&quot;,&quot;675kPX9MHTjS2zt1qfr1NYHuzeLXfQM9H24wFSUt1Mp8&quot;]</td>\n",
       "            <td>None</td>\n",
       "            <td>None</td>\n",
       "            <td>None</td>\n",
       "            <td>None</td>\n",
       "        </tr>\n",
       "    </tbody>\n",
       "</table>"
      ],
      "text/plain": [
       "[('9P65j1MLdkve3iShPXF3H6F32qGhKYmVLyza5J4ZvkyU', '2025-03-11 00:00:00.000', '11111111111111111111111111111111', '2025-03-11 00:00:00.000', 'HDwcJBJXjL9FpJ7UBsYBtaDjsBUhuLCUYoz3zr8SWWaQ', 1.0, 1.0, None, '[\"11111111111111111111111111111111\",\"11111111111111111111111111111111\",\"HDwcJBJXjL9FpJ7UBsYBtaDjsBUhuLCUYoz3zr8SWWaQ\",\"HDwcJBJXjL9FpJ7UBsYBtaDjsBUhuLCUYoz3zr8SWWaQ\"]', None, None, None, None),\n",
       " ('6VvDGnnAeEeK3yd4jAdH5X7ZdRVTsrbrg4beDZvQemmG', '2025-03-11 00:00:00.000', '11111111111111111111111111111111', '2025-03-11 00:00:00.000', '675kPX9MHTjS2zt1qfr1NYHuzeLXfQM9H24wFSUt1Mp8', 1.0, 1.0, None, '[\"11111111111111111111111111111111\",\"11111111111111111111111111111111\",\"675kPX9MHTjS2zt1qfr1NYHuzeLXfQM9H24wFSUt1Mp8\"]', None, None, None, None),\n",
       " ('gGf97pe7apxKNmQyiBctckiLeuPTBrbh4HridK6bNBz', '2025-03-11 00:00:00.000', '11111111111111111111111111111111', '2025-03-11 00:00:00.000', '675kPX9MHTjS2zt1qfr1NYHuzeLXfQM9H24wFSUt1Mp8', 1.0, 1.0, None, '[\"11111111111111111111111111111111\",\"11111111111111111111111111111111\",\"675kPX9MHTjS2zt1qfr1NYHuzeLXfQM9H24wFSUt1Mp8\"]', None, None, None, None),\n",
       " ('7VEETqsSS9QdhZZg2fZcpivzLYg8zbQrKEzpFoN9zpav', '2025-03-11 00:00:00.000', '11111111111111111111111111111111', '2025-03-11 00:00:00.000', '675kPX9MHTjS2zt1qfr1NYHuzeLXfQM9H24wFSUt1Mp8', 1.0, 1.0, None, '[\"11111111111111111111111111111111\",\"11111111111111111111111111111111\",\"675kPX9MHTjS2zt1qfr1NYHuzeLXfQM9H24wFSUt1Mp8\"]', None, None, None, None),\n",
       " ('ESJkFSHeeHE4rBHKxVAKA4QxjL93KPH7MbWrwkyDQgQx', '2025-03-11 00:00:00.000', '11111111111111111111111111111111', '2025-03-11 00:00:00.000', '675kPX9MHTjS2zt1qfr1NYHuzeLXfQM9H24wFSUt1Mp8', 1.0, 2.0, 10000.0, '[\"11111111111111111111111111111111\",\"675kPX9MHTjS2zt1qfr1NYHuzeLXfQM9H24wFSUt1Mp8\"]', None, None, None, None)]"
      ]
     },
     "execution_count": 13,
     "metadata": {},
     "output_type": "execute_result"
    }
   ],
   "source": [
    "%%sql\n",
    "ALTER TABLE flipside_days_active RENAME COLUMN SIGNER TO ADDRESS;\n",
    "\n",
    "SELECT \n",
    "    fda.ADDRESS, \n",
    "    fda.FIRST_TX_DATE, \n",
    "    fda.FIRST_PROGRAM_ID, \n",
    "    fda.LAST_TX_DATE, \n",
    "    fda.LAST_PROGRAM_ID, \n",
    "    fda.NUM_DAYS_ACTIVE, \n",
    "    fda.NUM_TXS, \n",
    "    fda.TOTAL_FEES, \n",
    "    fda.PROGRAMS_USED,\n",
    "    wds.CREATION_DATE, \n",
    "    wds.\"Days since last use\", \n",
    "    wds.\"Days since creation\", \n",
    "    sld.LAST_USE\n",
    "FROM flipside_days_active fda\n",
    "LEFT JOIN weekly_days_since_last_use wds ON fda.ADDRESS = wds.CREATION_DATE\n",
    "LEFT JOIN solana_last_use_data sld ON fda.ADDRESS = sld.ADDRESS\n",
    "LIMIT 5; \n"
   ]
  },
  {
   "cell_type": "code",
   "execution_count": 22,
   "id": "4e06127a",
   "metadata": {},
   "outputs": [
    {
     "name": "stdout",
     "output_type": "stream",
     "text": [
      " * sqlite:///flipside_data.db\n",
      "Done.\n",
      "Done.\n"
     ]
    },
    {
     "data": {
      "text/html": [
       "<table>\n",
       "    <thead>\n",
       "        <tr>\n",
       "            <th>ADDRESS</th>\n",
       "            <th>LAST_USE</th>\n",
       "        </tr>\n",
       "    </thead>\n",
       "    <tbody>\n",
       "        <tr>\n",
       "            <td>GtYVsyLCGKx29cZtTfvtdcZ3rwamYKan4FpZ286Yg5A</td>\n",
       "            <td>2025-03-17 00:00:00.000</td>\n",
       "        </tr>\n",
       "        <tr>\n",
       "            <td>HPPWqvpsU7PAzunxQW4gmNiPJDiuzdLodogKAz58sUmd</td>\n",
       "            <td>2025-03-17 00:00:00.000</td>\n",
       "        </tr>\n",
       "        <tr>\n",
       "            <td>BcqQYWEhqE3Qo3RRMF72Dsc7t65Tm7zSEd98EgHXb4oz</td>\n",
       "            <td>2025-03-17 00:00:00.000</td>\n",
       "        </tr>\n",
       "        <tr>\n",
       "            <td>DJo8CG7sJd7dW23Dk6NJvRFZNfMUoioaLxqQ9V554jSD</td>\n",
       "            <td>2025-03-17 00:00:00.000</td>\n",
       "        </tr>\n",
       "        <tr>\n",
       "            <td>AGkfxH1QfxxbwZSNuWe1pwCp6yBkRz8TNbKmSUZrQvWz</td>\n",
       "            <td>2025-03-17 00:00:00.000</td>\n",
       "        </tr>\n",
       "    </tbody>\n",
       "</table>"
      ],
      "text/plain": [
       "[('GtYVsyLCGKx29cZtTfvtdcZ3rwamYKan4FpZ286Yg5A', '2025-03-17 00:00:00.000'),\n",
       " ('HPPWqvpsU7PAzunxQW4gmNiPJDiuzdLodogKAz58sUmd', '2025-03-17 00:00:00.000'),\n",
       " ('BcqQYWEhqE3Qo3RRMF72Dsc7t65Tm7zSEd98EgHXb4oz', '2025-03-17 00:00:00.000'),\n",
       " ('DJo8CG7sJd7dW23Dk6NJvRFZNfMUoioaLxqQ9V554jSD', '2025-03-17 00:00:00.000'),\n",
       " ('AGkfxH1QfxxbwZSNuWe1pwCp6yBkRz8TNbKmSUZrQvWz', '2025-03-17 00:00:00.000')]"
      ]
     },
     "execution_count": 22,
     "metadata": {},
     "output_type": "execute_result"
    }
   ],
   "source": [
    "%%sql\n",
    "SELECT * FROM weekly_days_since_last_use LIMIT 5;\n",
    "SELECT * FROM solana_last_use_data LIMIT 5;\n"
   ]
  },
  {
   "cell_type": "markdown",
   "id": "cd8d2db6",
   "metadata": {},
   "source": [
    "**Merge solana_weekly_new_users and solana_weekly_unique_users since they track newly created users and unique occurrences.**"
   ]
  },
  {
   "cell_type": "code",
   "execution_count": 14,
   "id": "9e4deda5",
   "metadata": {},
   "outputs": [
    {
     "name": "stdout",
     "output_type": "stream",
     "text": [
      " * sqlite:///flipside_data.db\n",
      "Done.\n"
     ]
    },
    {
     "data": {
      "text/html": [
       "<table>\n",
       "    <thead>\n",
       "        <tr>\n",
       "            <th>WEEK</th>\n",
       "            <th>NEW_USERS</th>\n",
       "            <th>UNIQUE_USERS</th>\n",
       "        </tr>\n",
       "    </thead>\n",
       "    <tbody>\n",
       "        <tr>\n",
       "            <td>2023-08-28 00:00:00.000</td>\n",
       "            <td>1.0</td>\n",
       "            <td>None</td>\n",
       "        </tr>\n",
       "        <tr>\n",
       "            <td>2023-09-04 00:00:00.000</td>\n",
       "            <td>1.0</td>\n",
       "            <td>None</td>\n",
       "        </tr>\n",
       "        <tr>\n",
       "            <td>2023-09-11 00:00:00.000</td>\n",
       "            <td>1.0</td>\n",
       "            <td>None</td>\n",
       "        </tr>\n",
       "        <tr>\n",
       "            <td>2023-09-18 00:00:00.000</td>\n",
       "            <td>1.0</td>\n",
       "            <td>None</td>\n",
       "        </tr>\n",
       "        <tr>\n",
       "            <td>2023-10-30 00:00:00.000</td>\n",
       "            <td>1.0</td>\n",
       "            <td>None</td>\n",
       "        </tr>\n",
       "        <tr>\n",
       "            <td>2023-11-13 00:00:00.000</td>\n",
       "            <td>4.0</td>\n",
       "            <td>None</td>\n",
       "        </tr>\n",
       "        <tr>\n",
       "            <td>2023-12-11 00:00:00.000</td>\n",
       "            <td>1.0</td>\n",
       "            <td>None</td>\n",
       "        </tr>\n",
       "        <tr>\n",
       "            <td>2024-01-22 00:00:00.000</td>\n",
       "            <td>3.0</td>\n",
       "            <td>None</td>\n",
       "        </tr>\n",
       "        <tr>\n",
       "            <td>2024-01-29 00:00:00.000</td>\n",
       "            <td>2.0</td>\n",
       "            <td>33832569.0</td>\n",
       "        </tr>\n",
       "        <tr>\n",
       "            <td>2024-02-05 00:00:00.000</td>\n",
       "            <td>3.0</td>\n",
       "            <td>340112.0</td>\n",
       "        </tr>\n",
       "    </tbody>\n",
       "</table>"
      ],
      "text/plain": [
       "[('2023-08-28 00:00:00.000', 1.0, None),\n",
       " ('2023-09-04 00:00:00.000', 1.0, None),\n",
       " ('2023-09-11 00:00:00.000', 1.0, None),\n",
       " ('2023-09-18 00:00:00.000', 1.0, None),\n",
       " ('2023-10-30 00:00:00.000', 1.0, None),\n",
       " ('2023-11-13 00:00:00.000', 4.0, None),\n",
       " ('2023-12-11 00:00:00.000', 1.0, None),\n",
       " ('2024-01-22 00:00:00.000', 3.0, None),\n",
       " ('2024-01-29 00:00:00.000', 2.0, 33832569.0),\n",
       " ('2024-02-05 00:00:00.000', 3.0, 340112.0)]"
      ]
     },
     "execution_count": 14,
     "metadata": {},
     "output_type": "execute_result"
    }
   ],
   "source": [
    "%%sql\n",
    "SELECT \n",
    "    COALESCE(nu.WEEK, uu.WEEK) AS WEEK, \n",
    "    nu.NEW_USERS, \n",
    "    uu.UNIQUE_USERS\n",
    "FROM solana_weekly_new_users nu\n",
    "LEFT JOIN solana_weekly_unique_users uu \n",
    "ON nu.WEEK = uu.WEEK\n",
    "\n",
    "UNION\n",
    "\n",
    "SELECT \n",
    "    COALESCE(nu.WEEK, uu.WEEK) AS WEEK, \n",
    "    nu.NEW_USERS, \n",
    "    uu.UNIQUE_USERS\n",
    "FROM solana_weekly_unique_users uu\n",
    "LEFT JOIN solana_weekly_new_users nu \n",
    "ON uu.WEEK = nu.WEEK\n",
    "WHERE nu.WEEK IS NULL\n",
    "LIMIT 10;\n"
   ]
  },
  {
   "cell_type": "code",
   "execution_count": 19,
   "id": "ee8c98e8",
   "metadata": {},
   "outputs": [
    {
     "name": "stdout",
     "output_type": "stream",
     "text": [
      "                                        ADDRESS            FIRST_TX_DATE  \\\n",
      "0  9P65j1MLdkve3iShPXF3H6F32qGhKYmVLyza5J4ZvkyU  2025-03-11 00:00:00.000   \n",
      "1  6VvDGnnAeEeK3yd4jAdH5X7ZdRVTsrbrg4beDZvQemmG  2025-03-11 00:00:00.000   \n",
      "2   gGf97pe7apxKNmQyiBctckiLeuPTBrbh4HridK6bNBz  2025-03-11 00:00:00.000   \n",
      "3  7VEETqsSS9QdhZZg2fZcpivzLYg8zbQrKEzpFoN9zpav  2025-03-11 00:00:00.000   \n",
      "4  ESJkFSHeeHE4rBHKxVAKA4QxjL93KPH7MbWrwkyDQgQx  2025-03-11 00:00:00.000   \n",
      "\n",
      "                   FIRST_PROGRAM_ID             LAST_TX_DATE  \\\n",
      "0  11111111111111111111111111111111  2025-03-11 00:00:00.000   \n",
      "1  11111111111111111111111111111111  2025-03-11 00:00:00.000   \n",
      "2  11111111111111111111111111111111  2025-03-11 00:00:00.000   \n",
      "3  11111111111111111111111111111111  2025-03-11 00:00:00.000   \n",
      "4  11111111111111111111111111111111  2025-03-11 00:00:00.000   \n",
      "\n",
      "                                LAST_PROGRAM_ID  NUM_DAYS_ACTIVE  NUM_TXS  \\\n",
      "0  HDwcJBJXjL9FpJ7UBsYBtaDjsBUhuLCUYoz3zr8SWWaQ              1.0      1.0   \n",
      "1  675kPX9MHTjS2zt1qfr1NYHuzeLXfQM9H24wFSUt1Mp8              1.0      1.0   \n",
      "2  675kPX9MHTjS2zt1qfr1NYHuzeLXfQM9H24wFSUt1Mp8              1.0      1.0   \n",
      "3  675kPX9MHTjS2zt1qfr1NYHuzeLXfQM9H24wFSUt1Mp8              1.0      1.0   \n",
      "4  675kPX9MHTjS2zt1qfr1NYHuzeLXfQM9H24wFSUt1Mp8              1.0      2.0   \n",
      "\n",
      "   TOTAL_FEES                                      PROGRAMS_USED  \\\n",
      "0         NaN  [\"11111111111111111111111111111111\",\"111111111...   \n",
      "1         NaN  [\"11111111111111111111111111111111\",\"111111111...   \n",
      "2         NaN  [\"11111111111111111111111111111111\",\"111111111...   \n",
      "3         NaN  [\"11111111111111111111111111111111\",\"111111111...   \n",
      "4     10000.0  [\"11111111111111111111111111111111\",\"675kPX9MH...   \n",
      "\n",
      "  CREATION_DATE Days since last use Days since creation LAST_USE  \n",
      "0          None                None                None     None  \n",
      "1          None                None                None     None  \n",
      "2          None                None                None     None  \n",
      "3          None                None                None     None  \n",
      "4          None                None                None     None  \n",
      "<class 'pandas.core.frame.DataFrame'>\n"
     ]
    }
   ],
   "source": [
    "# Connect to database\n",
    "DATABASE_URL = \"sqlite:///flipside_data.db\"\n",
    "engine = create_engine(DATABASE_URL)\n",
    "\n",
    "# Run SQL query and load into Pandas DataFrame\n",
    "query = \"\"\"\n",
    "    \n",
    "\n",
    "    SELECT \n",
    "        fda.ADDRESS, \n",
    "        fda.FIRST_TX_DATE, \n",
    "        fda.FIRST_PROGRAM_ID, \n",
    "        fda.LAST_TX_DATE, \n",
    "        fda.LAST_PROGRAM_ID, \n",
    "        fda.NUM_DAYS_ACTIVE, \n",
    "        fda.NUM_TXS, \n",
    "        fda.TOTAL_FEES, \n",
    "        fda.PROGRAMS_USED,\n",
    "        wds.CREATION_DATE, \n",
    "        wds.\"Days since last use\", \n",
    "        wds.\"Days since creation\", \n",
    "        sld.LAST_USE\n",
    "    FROM flipside_days_active fda\n",
    "    LEFT JOIN weekly_days_since_last_use wds ON fda.ADDRESS = wds.CREATION_DATE\n",
    "    LEFT JOIN solana_last_use_data sld ON fda.ADDRESS = sld.ADDRESS\n",
    "    LIMIT 5;\n",
    "\"\"\"\n",
    "\n",
    "# Execute SQL query and convert to DataFrame\n",
    "df = pd.read_sql(query, engine)\n",
    "\n",
    "# Display the first few rows\n",
    "print(df.head())\n",
    "print(type(df))"
   ]
  },
  {
   "cell_type": "code",
   "execution_count": 20,
   "id": "36bee800",
   "metadata": {},
   "outputs": [
    {
     "name": "stdout",
     "output_type": "stream",
     "text": [
      "                                        ADDRESS            FIRST_TX_DATE  \\\n",
      "0  9P65j1MLdkve3iShPXF3H6F32qGhKYmVLyza5J4ZvkyU  2025-03-11 00:00:00.000   \n",
      "1  6VvDGnnAeEeK3yd4jAdH5X7ZdRVTsrbrg4beDZvQemmG  2025-03-11 00:00:00.000   \n",
      "2   gGf97pe7apxKNmQyiBctckiLeuPTBrbh4HridK6bNBz  2025-03-11 00:00:00.000   \n",
      "3  7VEETqsSS9QdhZZg2fZcpivzLYg8zbQrKEzpFoN9zpav  2025-03-11 00:00:00.000   \n",
      "4  ESJkFSHeeHE4rBHKxVAKA4QxjL93KPH7MbWrwkyDQgQx  2025-03-11 00:00:00.000   \n",
      "\n",
      "                   FIRST_PROGRAM_ID             LAST_TX_DATE  \\\n",
      "0  11111111111111111111111111111111  2025-03-11 00:00:00.000   \n",
      "1  11111111111111111111111111111111  2025-03-11 00:00:00.000   \n",
      "2  11111111111111111111111111111111  2025-03-11 00:00:00.000   \n",
      "3  11111111111111111111111111111111  2025-03-11 00:00:00.000   \n",
      "4  11111111111111111111111111111111  2025-03-11 00:00:00.000   \n",
      "\n",
      "                                LAST_PROGRAM_ID  NUM_DAYS_ACTIVE  NUM_TXS  \\\n",
      "0  HDwcJBJXjL9FpJ7UBsYBtaDjsBUhuLCUYoz3zr8SWWaQ              1.0      1.0   \n",
      "1  675kPX9MHTjS2zt1qfr1NYHuzeLXfQM9H24wFSUt1Mp8              1.0      1.0   \n",
      "2  675kPX9MHTjS2zt1qfr1NYHuzeLXfQM9H24wFSUt1Mp8              1.0      1.0   \n",
      "3  675kPX9MHTjS2zt1qfr1NYHuzeLXfQM9H24wFSUt1Mp8              1.0      1.0   \n",
      "4  675kPX9MHTjS2zt1qfr1NYHuzeLXfQM9H24wFSUt1Mp8              1.0      2.0   \n",
      "\n",
      "   TOTAL_FEES                                      PROGRAMS_USED  \\\n",
      "0         NaN  [\"11111111111111111111111111111111\",\"111111111...   \n",
      "1         NaN  [\"11111111111111111111111111111111\",\"111111111...   \n",
      "2         NaN  [\"11111111111111111111111111111111\",\"111111111...   \n",
      "3         NaN  [\"11111111111111111111111111111111\",\"111111111...   \n",
      "4     10000.0  [\"11111111111111111111111111111111\",\"675kPX9MH...   \n",
      "\n",
      "  CREATION_DATE Days since last use Days since creation LAST_USE  \n",
      "0          None                None                None     None  \n",
      "1          None                None                None     None  \n",
      "2          None                None                None     None  \n",
      "3          None                None                None     None  \n",
      "4          None                None                None     None  \n",
      "ADDRESS                 object\n",
      "FIRST_TX_DATE           object\n",
      "FIRST_PROGRAM_ID        object\n",
      "LAST_TX_DATE            object\n",
      "LAST_PROGRAM_ID         object\n",
      "NUM_DAYS_ACTIVE        float64\n",
      "NUM_TXS                float64\n",
      "TOTAL_FEES             float64\n",
      "PROGRAMS_USED           object\n",
      "CREATION_DATE           object\n",
      "Days since last use     object\n",
      "Days since creation     object\n",
      "LAST_USE                object\n",
      "dtype: object\n"
     ]
    }
   ],
   "source": [
    "print(df.head())  # View first few rows\n",
    "print(df.dtypes)  # Check column types\n"
   ]
  },
  {
   "cell_type": "code",
   "execution_count": 12,
   "id": "0c92265e",
   "metadata": {},
   "outputs": [
    {
     "name": "stdout",
     "output_type": "stream",
     "text": [
      " * sqlite:///flipside_data.db\n",
      "(sqlite3.OperationalError) no such column: ADDRESS\n",
      "[SQL: WITH first_week AS (\n",
      "    SELECT \n",
      "        ADDRESS, \n",
      "        MIN(WEEK) AS signup_week\n",
      "    FROM solana_weekly_new_users\n",
      "    GROUP BY ADDRESS\n",
      "),\n",
      "weekly_retention AS (\n",
      "    SELECT \n",
      "        f.signup_week, \n",
      "        w.WEEK, \n",
      "        COUNT(DISTINCT w.ADDRESS) AS returning_users\n",
      "    FROM first_week f\n",
      "    JOIN solana_weekly_unique_users w \n",
      "    ON f.ADDRESS = w.ADDRESS AND w.WEEK >= f.signup_week\n",
      "    GROUP BY f.signup_week, w.WEEK\n",
      ")\n",
      "SELECT \n",
      "    signup_week, \n",
      "    WEEK, \n",
      "    returning_users \n",
      "FROM weekly_retention\n",
      "ORDER BY signup_week, WEEK;]\n",
      "(Background on this error at: https://sqlalche.me/e/20/e3q8)\n"
     ]
    }
   ],
   "source": [
    "%%sql\n",
    "WITH first_week AS (\n",
    "    SELECT \n",
    "        ADDRESS, \n",
    "        MIN(WEEK) AS signup_week\n",
    "    FROM solana_weekly_new_users\n",
    "    GROUP BY ADDRESS\n",
    "),\n",
    "weekly_retention AS (\n",
    "    SELECT \n",
    "        f.signup_week, \n",
    "        w.WEEK, \n",
    "        COUNT(DISTINCT w.ADDRESS) AS returning_users\n",
    "    FROM first_week f\n",
    "    JOIN solana_weekly_unique_users w \n",
    "    ON f.ADDRESS = w.ADDRESS AND w.WEEK >= f.signup_week\n",
    "    GROUP BY f.signup_week, w.WEEK\n",
    ")\n",
    "SELECT \n",
    "    signup_week, \n",
    "    WEEK, \n",
    "    returning_users \n",
    "FROM weekly_retention\n",
    "ORDER BY signup_week, WEEK;\n"
   ]
  },
  {
   "cell_type": "code",
   "execution_count": null,
   "id": "4ad622ca",
   "metadata": {},
   "outputs": [],
   "source": []
  }
 ],
 "metadata": {
  "kernelspec": {
   "display_name": "Python (learn-env)",
   "language": "python",
   "name": "learn-env"
  },
  "language_info": {
   "codemirror_mode": {
    "name": "ipython",
    "version": 3
   },
   "file_extension": ".py",
   "mimetype": "text/x-python",
   "name": "python",
   "nbconvert_exporter": "python",
   "pygments_lexer": "ipython3",
   "version": "3.10.13"
  }
 },
 "nbformat": 4,
 "nbformat_minor": 5
}
