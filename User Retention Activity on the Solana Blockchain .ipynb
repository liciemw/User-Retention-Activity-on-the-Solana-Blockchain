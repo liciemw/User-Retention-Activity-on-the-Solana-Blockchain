{
 "cells": [
  {
   "cell_type": "markdown",
   "id": "4f637093",
   "metadata": {},
   "source": [
    "# Importations"
   ]
  },
  {
   "cell_type": "code",
   "execution_count": 14,
   "id": "58c905fd",
   "metadata": {},
   "outputs": [],
   "source": [
    "import pandas as pd"
   ]
  },
  {
   "cell_type": "markdown",
   "id": "aa75d856",
   "metadata": {},
   "source": [
    "# Step 1: Load Data into Pandas"
   ]
  },
  {
   "cell_type": "code",
   "execution_count": 22,
   "id": "80ddb7b3",
   "metadata": {},
   "outputs": [],
   "source": [
    "# Load dataset files into DataFrames\n",
    "df_active = pd.read_csv(\"Flipside Dataset/flipside_days_active.csv\")\n",
    "df_labels = pd.read_csv(\"Flipside Dataset/flipside_dim_labels.csv\", sep=\"\\t\")\n",
    "df_new_programs = pd.read_csv(\"Flipside Dataset/Solana Weekly New Program.csv\")\n",
    "df_new_users = pd.read_csv(\"Flipside Dataset/Solana Weekly New Users.csv\")\n",
    "df_unique_programs = pd.read_csv(\"Flipside Dataset/Solana Weekly Unique Programs.csv\")\n",
    "df_unique_users = pd.read_csv(\"Flipside Dataset/Weekly Unique Users.csv\")\n",
    "df_days_since_last_use = pd.read_csv(\"Flipside Dataset/weekly_days_since_last_use.csv\")\n",
    "df_users_last_use = pd.read_csv(\"Flipside Dataset/Weekly_users_last_use.csv\")\n"
   ]
  },
  {
   "cell_type": "markdown",
   "id": "e7dd929a",
   "metadata": {},
   "source": [
    "# Step 2: Merge Tables Based on Common Keys"
   ]
  },
  {
   "cell_type": "markdown",
   "id": "75c733f7",
   "metadata": {},
   "source": [
    "**I. Merge User Activity with Labels**"
   ]
  },
  {
   "cell_type": "code",
   "execution_count": 26,
   "id": "7c72552c",
   "metadata": {},
   "outputs": [],
   "source": [
    "# Keep only the first 6 valid columns\n",
    "df_labels = df_labels.iloc[:, :6]  \n",
    "# Rename Columns \n",
    "df_labels.columns = [\"BLOCKCHAIN\", \"CREATOR\", \"ADDRESS\", \"LABEL_TYPE\", \"LABEL_SUBTYPE\", \"ADDRESS_NAME\"]"
   ]
  },
  {
   "cell_type": "code",
   "execution_count": 36,
   "id": "7cf2c7d4",
   "metadata": {},
   "outputs": [],
   "source": [
    "df_merged = df_active.merge(df_labels, left_on=\"SIGNER\", right_on=\"ADDRESS\", how=\"left\")"
   ]
  },
  {
   "cell_type": "code",
   "execution_count": 39,
   "id": "7872c026",
   "metadata": {},
   "outputs": [
    {
     "name": "stdout",
     "output_type": "stream",
     "text": [
      "                                              SIGNER            FIRST_TX_DATE  \\\n",
      "0       9P65j1MLdkve3iShPXF3H6F32qGhKYmVLyza5J4ZvkyU  2025-03-11 00:00:00.000   \n",
      "1       6VvDGnnAeEeK3yd4jAdH5X7ZdRVTsrbrg4beDZvQemmG  2025-03-11 00:00:00.000   \n",
      "2        gGf97pe7apxKNmQyiBctckiLeuPTBrbh4HridK6bNBz  2025-03-11 00:00:00.000   \n",
      "3       7VEETqsSS9QdhZZg2fZcpivzLYg8zbQrKEzpFoN9zpav  2025-03-11 00:00:00.000   \n",
      "4       ESJkFSHeeHE4rBHKxVAKA4QxjL93KPH7MbWrwkyDQgQx  2025-03-11 00:00:00.000   \n",
      "...                                              ...                      ...   \n",
      "99996   5gog9z4sMbYQUp9dgwxf77NsxzZn8nZhLoPhw5SbyEtM  2025-03-11 00:00:00.000   \n",
      "99997   7EHyYjXtqfepRdstb8HZghz2yRHVCE5v7jTFbcqwConi  2025-03-11 00:00:00.000   \n",
      "99998   3692PsUoikuixzWTHgg7CW43ANLsJH6FpuRU9zwkgaMX  2025-03-11 00:00:00.000   \n",
      "99999   Ds9ce5uN4tGEMdMPw7jVFzrJLK71anR2kCMM79p8NuU3  2024-10-31 00:00:00.000   \n",
      "100000                                             ﻿                      NaN   \n",
      "\n",
      "                                    FIRST_PROGRAM_ID             LAST_TX_DATE  \\\n",
      "0                   11111111111111111111111111111111  2025-03-11 00:00:00.000   \n",
      "1                   11111111111111111111111111111111  2025-03-11 00:00:00.000   \n",
      "2                   11111111111111111111111111111111  2025-03-11 00:00:00.000   \n",
      "3                   11111111111111111111111111111111  2025-03-11 00:00:00.000   \n",
      "4                   11111111111111111111111111111111  2025-03-11 00:00:00.000   \n",
      "...                                              ...                      ...   \n",
      "99996               11111111111111111111111111111111  2025-03-11 00:00:00.000   \n",
      "99997    routeUGWgWzqBWFcrCfv8tritsqukccJPu3q5GPP3xS  2025-03-11 00:00:00.000   \n",
      "99998               11111111111111111111111111111111  2025-03-11 00:00:00.000   \n",
      "99999   675kPX9MHTjS2zt1qfr1NYHuzeLXfQM9H24wFSUt1Mp8  2025-03-11 00:00:00.000   \n",
      "100000                                           NaN                      NaN   \n",
      "\n",
      "                                     LAST_PROGRAM_ID  NUM_DAYS_ACTIVE  \\\n",
      "0       HDwcJBJXjL9FpJ7UBsYBtaDjsBUhuLCUYoz3zr8SWWaQ              1.0   \n",
      "1       675kPX9MHTjS2zt1qfr1NYHuzeLXfQM9H24wFSUt1Mp8              1.0   \n",
      "2       675kPX9MHTjS2zt1qfr1NYHuzeLXfQM9H24wFSUt1Mp8              1.0   \n",
      "3       675kPX9MHTjS2zt1qfr1NYHuzeLXfQM9H24wFSUt1Mp8              1.0   \n",
      "4       675kPX9MHTjS2zt1qfr1NYHuzeLXfQM9H24wFSUt1Mp8              1.0   \n",
      "...                                              ...              ...   \n",
      "99996   675kPX9MHTjS2zt1qfr1NYHuzeLXfQM9H24wFSUt1Mp8              1.0   \n",
      "99997               11111111111111111111111111111111              1.0   \n",
      "99998               11111111111111111111111111111111              1.0   \n",
      "99999               11111111111111111111111111111111             83.0   \n",
      "100000                                           NaN              NaN   \n",
      "\n",
      "        NUM_TXS  TOTAL_FEES  \\\n",
      "0           1.0         NaN   \n",
      "1           1.0         NaN   \n",
      "2           1.0         NaN   \n",
      "3           1.0         NaN   \n",
      "4           2.0     10000.0   \n",
      "...         ...         ...   \n",
      "99996       1.0         NaN   \n",
      "99997       2.0     10000.0   \n",
      "99998       4.0     95000.0   \n",
      "99999     705.0   5402535.0   \n",
      "100000      NaN         NaN   \n",
      "\n",
      "                                            PROGRAMS_USED BLOCKCHAIN CREATOR  \\\n",
      "0       [\"11111111111111111111111111111111\",\"111111111...        NaN     NaN   \n",
      "1       [\"11111111111111111111111111111111\",\"111111111...        NaN     NaN   \n",
      "2       [\"11111111111111111111111111111111\",\"111111111...        NaN     NaN   \n",
      "3       [\"11111111111111111111111111111111\",\"111111111...        NaN     NaN   \n",
      "4       [\"11111111111111111111111111111111\",\"675kPX9MH...        NaN     NaN   \n",
      "...                                                   ...        ...     ...   \n",
      "99996   [\"11111111111111111111111111111111\",\"111111111...        NaN     NaN   \n",
      "99997   [\"11111111111111111111111111111111\",\"routeUGWg...        NaN     NaN   \n",
      "99998   [\"11111111111111111111111111111111\",\"6EF8rrect...        NaN     NaN   \n",
      "99999   [\"675kPX9MHTjS2zt1qfr1NYHuzeLXfQM9H24wFSUt1Mp8...        NaN     NaN   \n",
      "100000                                                NaN        NaN     NaN   \n",
      "\n",
      "       ADDRESS LABEL_TYPE LABEL_SUBTYPE ADDRESS_NAME  \n",
      "0          NaN        NaN           NaN          NaN  \n",
      "1          NaN        NaN           NaN          NaN  \n",
      "2          NaN        NaN           NaN          NaN  \n",
      "3          NaN        NaN           NaN          NaN  \n",
      "4          NaN        NaN           NaN          NaN  \n",
      "...        ...        ...           ...          ...  \n",
      "99996      NaN        NaN           NaN          NaN  \n",
      "99997      NaN        NaN           NaN          NaN  \n",
      "99998      NaN        NaN           NaN          NaN  \n",
      "99999      NaN        NaN           NaN          NaN  \n",
      "100000     NaN        NaN           NaN          NaN  \n",
      "\n",
      "[100001 rows x 15 columns]\n"
     ]
    },
    {
     "ename": "AttributeError",
     "evalue": "'NoneType' object has no attribute 'head'",
     "output_type": "error",
     "traceback": [
      "\u001b[1;31m---------------------------------------------------------------------------\u001b[0m",
      "\u001b[1;31mAttributeError\u001b[0m                            Traceback (most recent call last)",
      "Cell \u001b[1;32mIn[39], line 1\u001b[0m\n\u001b[1;32m----> 1\u001b[0m \u001b[38;5;28;43mprint\u001b[39;49m\u001b[43m(\u001b[49m\u001b[43mdf_merged\u001b[49m\u001b[43m)\u001b[49m\u001b[38;5;241;43m.\u001b[39;49m\u001b[43mhead\u001b[49m()\n",
      "\u001b[1;31mAttributeError\u001b[0m: 'NoneType' object has no attribute 'head'"
     ]
    }
   ],
   "source": [
    "print(df_merged).head()"
   ]
  },
  {
   "cell_type": "markdown",
   "id": "f9f36f65",
   "metadata": {},
   "source": [
    "**II. Add Days Since Last Use**"
   ]
  },
  {
   "cell_type": "code",
   "execution_count": 38,
   "id": "8ce9e88f",
   "metadata": {},
   "outputs": [
    {
     "name": "stdout",
     "output_type": "stream",
     "text": [
      "    CREATION_DATE  Days since last use  Days since creation\n",
      "0      2020-10-07           633.616567           750.556628\n",
      "1      2020-10-14           611.422904           743.556628\n",
      "2      2020-10-21           528.263984           736.556628\n",
      "3      2020-10-28           492.900152           729.556628\n",
      "4      2020-11-04           696.768517           722.556628\n",
      "..            ...                  ...                  ...\n",
      "103    2022-09-28            23.075857            29.556628\n",
      "104    2022-10-05            18.225040            22.556628\n",
      "105    2022-10-12            12.097492            15.556628\n",
      "106    2022-10-19             6.609546             8.556628\n",
      "107    2022-10-26             0.994051             1.556628\n",
      "\n",
      "[108 rows x 3 columns]\n"
     ]
    },
    {
     "ename": "AttributeError",
     "evalue": "'NoneType' object has no attribute 'head'",
     "output_type": "error",
     "traceback": [
      "\u001b[1;31m---------------------------------------------------------------------------\u001b[0m",
      "\u001b[1;31mAttributeError\u001b[0m                            Traceback (most recent call last)",
      "Cell \u001b[1;32mIn[38], line 1\u001b[0m\n\u001b[1;32m----> 1\u001b[0m \u001b[38;5;28;43mprint\u001b[39;49m\u001b[43m(\u001b[49m\u001b[43mdf_days_since_last_use\u001b[49m\u001b[43m)\u001b[49m\u001b[38;5;241;43m.\u001b[39;49m\u001b[43mhead\u001b[49m()\n",
      "\u001b[1;31mAttributeError\u001b[0m: 'NoneType' object has no attribute 'head'"
     ]
    }
   ],
   "source": [
    "print(df_days_since_last_use).head()\n"
   ]
  },
  {
   "cell_type": "code",
   "execution_count": 32,
   "id": "52e0fb9e",
   "metadata": {},
   "outputs": [
    {
     "ename": "KeyError",
     "evalue": "'ADDRESS'",
     "output_type": "error",
     "traceback": [
      "\u001b[1;31m---------------------------------------------------------------------------\u001b[0m",
      "\u001b[1;31mKeyError\u001b[0m                                  Traceback (most recent call last)",
      "\u001b[1;32m~\\AppData\\Local\\Temp\\ipykernel_13952\\1530128650.py\u001b[0m in \u001b[0;36m?\u001b[1;34m()\u001b[0m\n\u001b[1;32m----> 1\u001b[1;33m \u001b[0mdf_merged\u001b[0m \u001b[1;33m=\u001b[0m \u001b[0mdf_merged\u001b[0m\u001b[1;33m.\u001b[0m\u001b[0mmerge\u001b[0m\u001b[1;33m(\u001b[0m\u001b[0mdf_days_since_last_use\u001b[0m\u001b[1;33m,\u001b[0m \u001b[0mleft_on\u001b[0m\u001b[1;33m=\u001b[0m\u001b[1;34m\"SIGNER\"\u001b[0m\u001b[1;33m,\u001b[0m \u001b[0mright_on\u001b[0m\u001b[1;33m=\u001b[0m\u001b[1;34m\"ADDRESS\"\u001b[0m\u001b[1;33m,\u001b[0m \u001b[0mhow\u001b[0m\u001b[1;33m=\u001b[0m\u001b[1;34m\"left\"\u001b[0m\u001b[1;33m)\u001b[0m\u001b[1;33m\u001b[0m\u001b[1;33m\u001b[0m\u001b[0m\n\u001b[0m",
      "\u001b[1;32m~\\anaconda3\\envs\\learn-env\\lib\\site-packages\\pandas\\core\\frame.py\u001b[0m in \u001b[0;36m?\u001b[1;34m(self, right, how, on, left_on, right_on, left_index, right_index, sort, suffixes, copy, indicator, validate)\u001b[0m\n\u001b[0;32m  10486\u001b[0m         \u001b[0mvalidate\u001b[0m\u001b[1;33m:\u001b[0m \u001b[0mMergeValidate\u001b[0m \u001b[1;33m|\u001b[0m \u001b[1;32mNone\u001b[0m \u001b[1;33m=\u001b[0m \u001b[1;32mNone\u001b[0m\u001b[1;33m,\u001b[0m\u001b[1;33m\u001b[0m\u001b[1;33m\u001b[0m\u001b[0m\n\u001b[0;32m  10487\u001b[0m     ) -> DataFrame:\n\u001b[0;32m  10488\u001b[0m         \u001b[1;32mfrom\u001b[0m \u001b[0mpandas\u001b[0m\u001b[1;33m.\u001b[0m\u001b[0mcore\u001b[0m\u001b[1;33m.\u001b[0m\u001b[0mreshape\u001b[0m\u001b[1;33m.\u001b[0m\u001b[0mmerge\u001b[0m \u001b[1;32mimport\u001b[0m \u001b[0mmerge\u001b[0m\u001b[1;33m\u001b[0m\u001b[1;33m\u001b[0m\u001b[0m\n\u001b[0;32m  10489\u001b[0m \u001b[1;33m\u001b[0m\u001b[0m\n\u001b[1;32m> 10490\u001b[1;33m         return merge(\n\u001b[0m\u001b[0;32m  10491\u001b[0m             \u001b[0mself\u001b[0m\u001b[1;33m,\u001b[0m\u001b[1;33m\u001b[0m\u001b[1;33m\u001b[0m\u001b[0m\n\u001b[0;32m  10492\u001b[0m             \u001b[0mright\u001b[0m\u001b[1;33m,\u001b[0m\u001b[1;33m\u001b[0m\u001b[1;33m\u001b[0m\u001b[0m\n\u001b[0;32m  10493\u001b[0m             \u001b[0mhow\u001b[0m\u001b[1;33m=\u001b[0m\u001b[0mhow\u001b[0m\u001b[1;33m,\u001b[0m\u001b[1;33m\u001b[0m\u001b[1;33m\u001b[0m\u001b[0m\n",
      "\u001b[1;32m~\\anaconda3\\envs\\learn-env\\lib\\site-packages\\pandas\\core\\reshape\\merge.py\u001b[0m in \u001b[0;36m?\u001b[1;34m(left, right, how, on, left_on, right_on, left_index, right_index, sort, suffixes, copy, indicator, validate)\u001b[0m\n\u001b[0;32m    165\u001b[0m             \u001b[0mvalidate\u001b[0m\u001b[1;33m=\u001b[0m\u001b[0mvalidate\u001b[0m\u001b[1;33m,\u001b[0m\u001b[1;33m\u001b[0m\u001b[1;33m\u001b[0m\u001b[0m\n\u001b[0;32m    166\u001b[0m             \u001b[0mcopy\u001b[0m\u001b[1;33m=\u001b[0m\u001b[0mcopy\u001b[0m\u001b[1;33m,\u001b[0m\u001b[1;33m\u001b[0m\u001b[1;33m\u001b[0m\u001b[0m\n\u001b[0;32m    167\u001b[0m         )\n\u001b[0;32m    168\u001b[0m     \u001b[1;32melse\u001b[0m\u001b[1;33m:\u001b[0m\u001b[1;33m\u001b[0m\u001b[1;33m\u001b[0m\u001b[0m\n\u001b[1;32m--> 169\u001b[1;33m         op = _MergeOperation(\n\u001b[0m\u001b[0;32m    170\u001b[0m             \u001b[0mleft_df\u001b[0m\u001b[1;33m,\u001b[0m\u001b[1;33m\u001b[0m\u001b[1;33m\u001b[0m\u001b[0m\n\u001b[0;32m    171\u001b[0m             \u001b[0mright_df\u001b[0m\u001b[1;33m,\u001b[0m\u001b[1;33m\u001b[0m\u001b[1;33m\u001b[0m\u001b[0m\n\u001b[0;32m    172\u001b[0m             \u001b[0mhow\u001b[0m\u001b[1;33m=\u001b[0m\u001b[0mhow\u001b[0m\u001b[1;33m,\u001b[0m\u001b[1;33m\u001b[0m\u001b[1;33m\u001b[0m\u001b[0m\n",
      "\u001b[1;32m~\\anaconda3\\envs\\learn-env\\lib\\site-packages\\pandas\\core\\reshape\\merge.py\u001b[0m in \u001b[0;36m?\u001b[1;34m(self, left, right, how, on, left_on, right_on, left_index, right_index, sort, suffixes, indicator, validate)\u001b[0m\n\u001b[0;32m    787\u001b[0m             \u001b[0mself\u001b[0m\u001b[1;33m.\u001b[0m\u001b[0mright_join_keys\u001b[0m\u001b[1;33m,\u001b[0m\u001b[1;33m\u001b[0m\u001b[1;33m\u001b[0m\u001b[0m\n\u001b[0;32m    788\u001b[0m             \u001b[0mself\u001b[0m\u001b[1;33m.\u001b[0m\u001b[0mjoin_names\u001b[0m\u001b[1;33m,\u001b[0m\u001b[1;33m\u001b[0m\u001b[1;33m\u001b[0m\u001b[0m\n\u001b[0;32m    789\u001b[0m             \u001b[0mleft_drop\u001b[0m\u001b[1;33m,\u001b[0m\u001b[1;33m\u001b[0m\u001b[1;33m\u001b[0m\u001b[0m\n\u001b[0;32m    790\u001b[0m             \u001b[0mright_drop\u001b[0m\u001b[1;33m,\u001b[0m\u001b[1;33m\u001b[0m\u001b[1;33m\u001b[0m\u001b[0m\n\u001b[1;32m--> 791\u001b[1;33m         ) = self._get_merge_keys()\n\u001b[0m\u001b[0;32m    792\u001b[0m \u001b[1;33m\u001b[0m\u001b[0m\n\u001b[0;32m    793\u001b[0m         \u001b[1;32mif\u001b[0m \u001b[0mleft_drop\u001b[0m\u001b[1;33m:\u001b[0m\u001b[1;33m\u001b[0m\u001b[1;33m\u001b[0m\u001b[0m\n\u001b[0;32m    794\u001b[0m             \u001b[0mself\u001b[0m\u001b[1;33m.\u001b[0m\u001b[0mleft\u001b[0m \u001b[1;33m=\u001b[0m \u001b[0mself\u001b[0m\u001b[1;33m.\u001b[0m\u001b[0mleft\u001b[0m\u001b[1;33m.\u001b[0m\u001b[0m_drop_labels_or_levels\u001b[0m\u001b[1;33m(\u001b[0m\u001b[0mleft_drop\u001b[0m\u001b[1;33m)\u001b[0m\u001b[1;33m\u001b[0m\u001b[1;33m\u001b[0m\u001b[0m\n",
      "\u001b[1;32m~\\anaconda3\\envs\\learn-env\\lib\\site-packages\\pandas\\core\\reshape\\merge.py\u001b[0m in \u001b[0;36m?\u001b[1;34m(self)\u001b[0m\n\u001b[0;32m   1265\u001b[0m                         \u001b[1;31m# Then we're either Hashable or a wrong-length arraylike,\u001b[0m\u001b[1;33m\u001b[0m\u001b[1;33m\u001b[0m\u001b[0m\n\u001b[0;32m   1266\u001b[0m                         \u001b[1;31m#  the latter of which will raise\u001b[0m\u001b[1;33m\u001b[0m\u001b[1;33m\u001b[0m\u001b[0m\n\u001b[0;32m   1267\u001b[0m                         \u001b[0mrk\u001b[0m \u001b[1;33m=\u001b[0m \u001b[0mcast\u001b[0m\u001b[1;33m(\u001b[0m\u001b[0mHashable\u001b[0m\u001b[1;33m,\u001b[0m \u001b[0mrk\u001b[0m\u001b[1;33m)\u001b[0m\u001b[1;33m\u001b[0m\u001b[1;33m\u001b[0m\u001b[0m\n\u001b[0;32m   1268\u001b[0m                         \u001b[1;32mif\u001b[0m \u001b[0mrk\u001b[0m \u001b[1;32mis\u001b[0m \u001b[1;32mnot\u001b[0m \u001b[1;32mNone\u001b[0m\u001b[1;33m:\u001b[0m\u001b[1;33m\u001b[0m\u001b[1;33m\u001b[0m\u001b[0m\n\u001b[1;32m-> 1269\u001b[1;33m                             \u001b[0mright_keys\u001b[0m\u001b[1;33m.\u001b[0m\u001b[0mappend\u001b[0m\u001b[1;33m(\u001b[0m\u001b[0mright\u001b[0m\u001b[1;33m.\u001b[0m\u001b[0m_get_label_or_level_values\u001b[0m\u001b[1;33m(\u001b[0m\u001b[0mrk\u001b[0m\u001b[1;33m)\u001b[0m\u001b[1;33m)\u001b[0m\u001b[1;33m\u001b[0m\u001b[1;33m\u001b[0m\u001b[0m\n\u001b[0m\u001b[0;32m   1270\u001b[0m                         \u001b[1;32melse\u001b[0m\u001b[1;33m:\u001b[0m\u001b[1;33m\u001b[0m\u001b[1;33m\u001b[0m\u001b[0m\n\u001b[0;32m   1271\u001b[0m                             \u001b[1;31m# work-around for merge_asof(right_index=True)\u001b[0m\u001b[1;33m\u001b[0m\u001b[1;33m\u001b[0m\u001b[0m\n\u001b[0;32m   1272\u001b[0m                             \u001b[0mright_keys\u001b[0m\u001b[1;33m.\u001b[0m\u001b[0mappend\u001b[0m\u001b[1;33m(\u001b[0m\u001b[0mright\u001b[0m\u001b[1;33m.\u001b[0m\u001b[0mindex\u001b[0m\u001b[1;33m.\u001b[0m\u001b[0m_values\u001b[0m\u001b[1;33m)\u001b[0m\u001b[1;33m\u001b[0m\u001b[1;33m\u001b[0m\u001b[0m\n",
      "\u001b[1;32m~\\anaconda3\\envs\\learn-env\\lib\\site-packages\\pandas\\core\\generic.py\u001b[0m in \u001b[0;36m?\u001b[1;34m(self, key, axis)\u001b[0m\n\u001b[0;32m   1840\u001b[0m             \u001b[0mvalues\u001b[0m \u001b[1;33m=\u001b[0m \u001b[0mself\u001b[0m\u001b[1;33m.\u001b[0m\u001b[0mxs\u001b[0m\u001b[1;33m(\u001b[0m\u001b[0mkey\u001b[0m\u001b[1;33m,\u001b[0m \u001b[0maxis\u001b[0m\u001b[1;33m=\u001b[0m\u001b[0mother_axes\u001b[0m\u001b[1;33m[\u001b[0m\u001b[1;36m0\u001b[0m\u001b[1;33m]\u001b[0m\u001b[1;33m)\u001b[0m\u001b[1;33m.\u001b[0m\u001b[0m_values\u001b[0m\u001b[1;33m\u001b[0m\u001b[1;33m\u001b[0m\u001b[0m\n\u001b[0;32m   1841\u001b[0m         \u001b[1;32melif\u001b[0m \u001b[0mself\u001b[0m\u001b[1;33m.\u001b[0m\u001b[0m_is_level_reference\u001b[0m\u001b[1;33m(\u001b[0m\u001b[0mkey\u001b[0m\u001b[1;33m,\u001b[0m \u001b[0maxis\u001b[0m\u001b[1;33m=\u001b[0m\u001b[0maxis\u001b[0m\u001b[1;33m)\u001b[0m\u001b[1;33m:\u001b[0m\u001b[1;33m\u001b[0m\u001b[1;33m\u001b[0m\u001b[0m\n\u001b[0;32m   1842\u001b[0m             \u001b[0mvalues\u001b[0m \u001b[1;33m=\u001b[0m \u001b[0mself\u001b[0m\u001b[1;33m.\u001b[0m\u001b[0maxes\u001b[0m\u001b[1;33m[\u001b[0m\u001b[0maxis\u001b[0m\u001b[1;33m]\u001b[0m\u001b[1;33m.\u001b[0m\u001b[0mget_level_values\u001b[0m\u001b[1;33m(\u001b[0m\u001b[0mkey\u001b[0m\u001b[1;33m)\u001b[0m\u001b[1;33m.\u001b[0m\u001b[0m_values\u001b[0m\u001b[1;33m\u001b[0m\u001b[1;33m\u001b[0m\u001b[0m\n\u001b[0;32m   1843\u001b[0m         \u001b[1;32melse\u001b[0m\u001b[1;33m:\u001b[0m\u001b[1;33m\u001b[0m\u001b[1;33m\u001b[0m\u001b[0m\n\u001b[1;32m-> 1844\u001b[1;33m             \u001b[1;32mraise\u001b[0m \u001b[0mKeyError\u001b[0m\u001b[1;33m(\u001b[0m\u001b[0mkey\u001b[0m\u001b[1;33m)\u001b[0m\u001b[1;33m\u001b[0m\u001b[1;33m\u001b[0m\u001b[0m\n\u001b[0m\u001b[0;32m   1845\u001b[0m \u001b[1;33m\u001b[0m\u001b[0m\n\u001b[0;32m   1846\u001b[0m         \u001b[1;31m# Check for duplicates\u001b[0m\u001b[1;33m\u001b[0m\u001b[1;33m\u001b[0m\u001b[0m\n\u001b[0;32m   1847\u001b[0m         \u001b[1;32mif\u001b[0m \u001b[0mvalues\u001b[0m\u001b[1;33m.\u001b[0m\u001b[0mndim\u001b[0m \u001b[1;33m>\u001b[0m \u001b[1;36m1\u001b[0m\u001b[1;33m:\u001b[0m\u001b[1;33m\u001b[0m\u001b[1;33m\u001b[0m\u001b[0m\n",
      "\u001b[1;31mKeyError\u001b[0m: 'ADDRESS'"
     ]
    }
   ],
   "source": [
    "df_merged = df_merged.merge(df_days_since_last_use, left_on=\"SIGNER\", right_on=\"ADDRESS\", how=\"left\")\n"
   ]
  },
  {
   "cell_type": "code",
   "execution_count": null,
   "id": "9e4deda5",
   "metadata": {},
   "outputs": [],
   "source": []
  }
 ],
 "metadata": {
  "kernelspec": {
   "display_name": "Python (learn-env)",
   "language": "python",
   "name": "learn-env"
  },
  "language_info": {
   "codemirror_mode": {
    "name": "ipython",
    "version": 3
   },
   "file_extension": ".py",
   "mimetype": "text/x-python",
   "name": "python",
   "nbconvert_exporter": "python",
   "pygments_lexer": "ipython3",
   "version": "3.10.13"
  }
 },
 "nbformat": 4,
 "nbformat_minor": 5
}
